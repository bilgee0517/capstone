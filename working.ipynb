{
 "cells": [
  {
   "cell_type": "code",
   "execution_count": null,
   "metadata": {
    "vscode": {
     "languageId": "plaintext"
    }
   },
   "outputs": [],
   "source": [
    "import json\n",
    "from numbers_parser import Document\n",
    "\n",
    "# Path to your .numbers file (change the filename if needed)\n",
    "input_file = \"training_data.numbers\"\n",
    "# Output JSON file for Qwen fine-tuning data\n",
    "output_file = \"qwen_training_data.json\"\n",
    "\n",
    "# Load the Numbers document\n",
    "doc = Document(input_file)\n",
    "\n",
    "# Assume the data is in the first sheet and the first table of that sheet\n",
    "sheet = doc.sheets[0]\n",
    "table = sheet.tables[0]\n",
    "\n",
    "# Get all rows from the table (first row assumed to be the header)\n",
    "rows = table.rows()\n",
    "\n",
    "# The first row contains the headers (e.g., \"src\", \"tgt\", \"explanation\")\n",
    "headers = rows[0]\n",
    "data_rows = rows[1:]\n",
    "\n",
    "# Determine column indices from the header row\n",
    "src_idx = headers.index(\"src\")\n",
    "tgt_idx = headers.index(\"tgt\")\n",
    "explanation_idx = headers.index(\"explanation\")\n",
    "\n",
    "# Define a common instruction for each example\n",
    "instruction = (\n",
    "    \"Translate the following Mongolian sentence into English, \"\n",
    "    \"and then explain your translation choices.\"\n",
    ")\n",
    "\n",
    "# Build the training data list\n",
    "training_data = []\n",
    "\n",
    "for row in data_rows:\n",
    "    src_text = row[src_idx]\n",
    "    tgt_text = row[tgt_idx]\n",
    "    explanation = row[explanation_idx]\n",
    "    \n",
    "    # Format the output as desired for Qwen\n",
    "    output_text = (\n",
    "        f\"English Translation: {tgt_text}\\n\\n\"\n",
    "        f\"Explanation: {explanation}\"\n",
    "    )\n",
    "    \n",
    "    training_example = {\n",
    "        \"instruction\": instruction,\n",
    "        \"input\": src_text,\n",
    "        \"output\": output_text\n",
    "    }\n",
    "    \n",
    "    training_data.append(training_example)\n",
    "\n",
    "# Write the training data to a JSON file\n",
    "with open(output_file, 'w', encoding='utf-8') as f:\n",
    "    json.dump(training_data, f, ensure_ascii=False, indent=2)\n",
    "\n",
    "print(f\"Saved {len(training_data)} training examples to {output_file}\")\n"
   ]
  }
 ],
 "metadata": {
  "language_info": {
   "name": "python"
  }
 },
 "nbformat": 4,
 "nbformat_minor": 2
}
